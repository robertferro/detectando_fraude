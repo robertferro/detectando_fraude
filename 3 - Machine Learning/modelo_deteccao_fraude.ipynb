{
  "nbformat": 4,
  "nbformat_minor": 0,
  "metadata": {
    "colab": {
      "name": "modelo_deteccao_fraude.ipynb",
      "provenance": [],
      "collapsed_sections": []
    },
    "kernelspec": {
      "name": "python3",
      "display_name": "Python 3"
    },
    "language_info": {
      "name": "python"
    }
  },
  "cells": [
    {
      "cell_type": "markdown",
      "metadata": {
        "id": "1BbtYRYLPRUc"
      },
      "source": [
        "- Importando bibliotecas e carregando os dados."
      ]
    },
    {
      "cell_type": "code",
      "metadata": {
        "id": "AXv3ouQWNVGG"
      },
      "source": [
        "import pandas as pd\n",
        "import numpy as np\n",
        "import matplotlib.pyplot as plt\n",
        "%matplotlib inline\n",
        "import seaborn as sns"
      ],
      "execution_count": null,
      "outputs": []
    },
    {
      "cell_type": "code",
      "metadata": {
        "id": "qUlCLpzFzzzw"
      },
      "source": [
        "fraude_df = pd.read_csv('/content/drive/MyDrive/projetos_portfolio/dados_pre_processados.csv')"
      ],
      "execution_count": null,
      "outputs": []
    },
    {
      "cell_type": "code",
      "metadata": {
        "colab": {
          "base_uri": "https://localhost:8080/",
          "height": 389
        },
        "id": "MHWvBNkxuozr",
        "outputId": "106633b4-96e0-42ea-f34e-8de4c16f9bf4"
      },
      "source": [
        "fraude_df.head()"
      ],
      "execution_count": null,
      "outputs": [
        {
          "output_type": "execute_result",
          "data": {
            "text/html": [
              "<div>\n",
              "<style scoped>\n",
              "    .dataframe tbody tr th:only-of-type {\n",
              "        vertical-align: middle;\n",
              "    }\n",
              "\n",
              "    .dataframe tbody tr th {\n",
              "        vertical-align: top;\n",
              "    }\n",
              "\n",
              "    .dataframe thead th {\n",
              "        text-align: right;\n",
              "    }\n",
              "</style>\n",
              "<table border=\"1\" class=\"dataframe\">\n",
              "  <thead>\n",
              "    <tr style=\"text-align: right;\">\n",
              "      <th></th>\n",
              "      <th>fraude</th>\n",
              "      <th>media_id</th>\n",
              "      <th>tempo</th>\n",
              "      <th>pais_Afghanistan</th>\n",
              "      <th>pais_Albania</th>\n",
              "      <th>pais_Algeria</th>\n",
              "      <th>pais_Angola</th>\n",
              "      <th>pais_Antigua and Barbuda</th>\n",
              "      <th>pais_Argentina</th>\n",
              "      <th>pais_Armenia</th>\n",
              "      <th>pais_Australia</th>\n",
              "      <th>pais_Austria</th>\n",
              "      <th>pais_Azerbaijan</th>\n",
              "      <th>pais_Bahamas</th>\n",
              "      <th>pais_Bahrain</th>\n",
              "      <th>pais_Bangladesh</th>\n",
              "      <th>pais_Barbados</th>\n",
              "      <th>pais_Belarus</th>\n",
              "      <th>pais_Belgium</th>\n",
              "      <th>pais_Belize</th>\n",
              "      <th>pais_Benin</th>\n",
              "      <th>pais_Bermuda</th>\n",
              "      <th>pais_Bhutan</th>\n",
              "      <th>pais_Bolivia</th>\n",
              "      <th>pais_Bonaire; Sint Eustatius; Saba</th>\n",
              "      <th>pais_Bosnia and Herzegowina</th>\n",
              "      <th>pais_Botswana</th>\n",
              "      <th>pais_Brazil</th>\n",
              "      <th>pais_British Indian Ocean Territory</th>\n",
              "      <th>pais_Brunei Darussalam</th>\n",
              "      <th>pais_Bulgaria</th>\n",
              "      <th>pais_Burkina Faso</th>\n",
              "      <th>pais_Burundi</th>\n",
              "      <th>pais_Cambodia</th>\n",
              "      <th>pais_Cameroon</th>\n",
              "      <th>pais_Canada</th>\n",
              "      <th>pais_Cape Verde</th>\n",
              "      <th>pais_Cayman Islands</th>\n",
              "      <th>pais_Chile</th>\n",
              "      <th>pais_China</th>\n",
              "      <th>...</th>\n",
              "      <th>pais_Saint Kitts and Nevis</th>\n",
              "      <th>pais_Saint Martin</th>\n",
              "      <th>pais_San Marino</th>\n",
              "      <th>pais_Saudi Arabia</th>\n",
              "      <th>pais_Senegal</th>\n",
              "      <th>pais_Serbia</th>\n",
              "      <th>pais_Seychelles</th>\n",
              "      <th>pais_Singapore</th>\n",
              "      <th>pais_Slovakia (SLOVAK Republic)</th>\n",
              "      <th>pais_Slovenia</th>\n",
              "      <th>pais_South Africa</th>\n",
              "      <th>pais_South Sudan</th>\n",
              "      <th>pais_Spain</th>\n",
              "      <th>pais_Sri Lanka</th>\n",
              "      <th>pais_Sudan</th>\n",
              "      <th>pais_Sweden</th>\n",
              "      <th>pais_Switzerland</th>\n",
              "      <th>pais_Syrian Arab Republic</th>\n",
              "      <th>pais_Taiwan; Republic of China (ROC)</th>\n",
              "      <th>pais_Tajikistan</th>\n",
              "      <th>pais_Tanzania United Republic of</th>\n",
              "      <th>pais_Thailand</th>\n",
              "      <th>pais_Trinidad and Tobago</th>\n",
              "      <th>pais_Tunisia</th>\n",
              "      <th>pais_Turkey</th>\n",
              "      <th>pais_Turkmenistan</th>\n",
              "      <th>pais_Uganda</th>\n",
              "      <th>pais_Ukraine</th>\n",
              "      <th>pais_United Arab Emirates</th>\n",
              "      <th>pais_United Kingdom</th>\n",
              "      <th>pais_United States</th>\n",
              "      <th>pais_Uruguay</th>\n",
              "      <th>pais_Uzbekistan</th>\n",
              "      <th>pais_Vanuatu</th>\n",
              "      <th>pais_Venezuela</th>\n",
              "      <th>pais_Viet Nam</th>\n",
              "      <th>pais_Virgin Islands (U.S.)</th>\n",
              "      <th>pais_Yemen</th>\n",
              "      <th>pais_Zambia</th>\n",
              "      <th>pais_Zimbabwe</th>\n",
              "    </tr>\n",
              "  </thead>\n",
              "  <tbody>\n",
              "    <tr>\n",
              "      <th>0</th>\n",
              "      <td>0</td>\n",
              "      <td>5.263152e-07</td>\n",
              "      <td>4.217734e-01</td>\n",
              "      <td>0</td>\n",
              "      <td>0</td>\n",
              "      <td>0</td>\n",
              "      <td>0</td>\n",
              "      <td>0</td>\n",
              "      <td>0</td>\n",
              "      <td>0</td>\n",
              "      <td>0</td>\n",
              "      <td>0</td>\n",
              "      <td>0</td>\n",
              "      <td>0</td>\n",
              "      <td>0</td>\n",
              "      <td>0</td>\n",
              "      <td>0</td>\n",
              "      <td>0</td>\n",
              "      <td>0</td>\n",
              "      <td>0</td>\n",
              "      <td>0</td>\n",
              "      <td>0</td>\n",
              "      <td>0</td>\n",
              "      <td>0</td>\n",
              "      <td>0</td>\n",
              "      <td>0</td>\n",
              "      <td>0</td>\n",
              "      <td>0</td>\n",
              "      <td>0</td>\n",
              "      <td>0</td>\n",
              "      <td>0</td>\n",
              "      <td>0</td>\n",
              "      <td>0</td>\n",
              "      <td>0</td>\n",
              "      <td>0</td>\n",
              "      <td>0</td>\n",
              "      <td>0</td>\n",
              "      <td>0</td>\n",
              "      <td>0</td>\n",
              "      <td>0</td>\n",
              "      <td>...</td>\n",
              "      <td>0</td>\n",
              "      <td>0</td>\n",
              "      <td>0</td>\n",
              "      <td>0</td>\n",
              "      <td>0</td>\n",
              "      <td>0</td>\n",
              "      <td>0</td>\n",
              "      <td>0</td>\n",
              "      <td>0</td>\n",
              "      <td>0</td>\n",
              "      <td>0</td>\n",
              "      <td>0</td>\n",
              "      <td>0</td>\n",
              "      <td>0</td>\n",
              "      <td>0</td>\n",
              "      <td>0</td>\n",
              "      <td>0</td>\n",
              "      <td>0</td>\n",
              "      <td>0</td>\n",
              "      <td>0</td>\n",
              "      <td>0</td>\n",
              "      <td>0</td>\n",
              "      <td>0</td>\n",
              "      <td>0</td>\n",
              "      <td>0</td>\n",
              "      <td>0</td>\n",
              "      <td>0</td>\n",
              "      <td>0</td>\n",
              "      <td>0</td>\n",
              "      <td>0</td>\n",
              "      <td>0</td>\n",
              "      <td>0</td>\n",
              "      <td>0</td>\n",
              "      <td>0</td>\n",
              "      <td>0</td>\n",
              "      <td>0</td>\n",
              "      <td>0</td>\n",
              "      <td>0</td>\n",
              "      <td>0</td>\n",
              "      <td>0</td>\n",
              "    </tr>\n",
              "    <tr>\n",
              "      <th>1</th>\n",
              "      <td>0</td>\n",
              "      <td>5.263152e-07</td>\n",
              "      <td>4.357532e-01</td>\n",
              "      <td>0</td>\n",
              "      <td>0</td>\n",
              "      <td>0</td>\n",
              "      <td>0</td>\n",
              "      <td>0</td>\n",
              "      <td>0</td>\n",
              "      <td>0</td>\n",
              "      <td>0</td>\n",
              "      <td>0</td>\n",
              "      <td>0</td>\n",
              "      <td>0</td>\n",
              "      <td>0</td>\n",
              "      <td>0</td>\n",
              "      <td>0</td>\n",
              "      <td>0</td>\n",
              "      <td>0</td>\n",
              "      <td>0</td>\n",
              "      <td>0</td>\n",
              "      <td>0</td>\n",
              "      <td>0</td>\n",
              "      <td>0</td>\n",
              "      <td>0</td>\n",
              "      <td>0</td>\n",
              "      <td>0</td>\n",
              "      <td>0</td>\n",
              "      <td>0</td>\n",
              "      <td>0</td>\n",
              "      <td>0</td>\n",
              "      <td>0</td>\n",
              "      <td>0</td>\n",
              "      <td>0</td>\n",
              "      <td>0</td>\n",
              "      <td>0</td>\n",
              "      <td>0</td>\n",
              "      <td>0</td>\n",
              "      <td>0</td>\n",
              "      <td>0</td>\n",
              "      <td>...</td>\n",
              "      <td>0</td>\n",
              "      <td>0</td>\n",
              "      <td>0</td>\n",
              "      <td>0</td>\n",
              "      <td>0</td>\n",
              "      <td>0</td>\n",
              "      <td>0</td>\n",
              "      <td>0</td>\n",
              "      <td>0</td>\n",
              "      <td>0</td>\n",
              "      <td>0</td>\n",
              "      <td>0</td>\n",
              "      <td>0</td>\n",
              "      <td>0</td>\n",
              "      <td>0</td>\n",
              "      <td>0</td>\n",
              "      <td>0</td>\n",
              "      <td>0</td>\n",
              "      <td>0</td>\n",
              "      <td>0</td>\n",
              "      <td>0</td>\n",
              "      <td>0</td>\n",
              "      <td>0</td>\n",
              "      <td>0</td>\n",
              "      <td>0</td>\n",
              "      <td>0</td>\n",
              "      <td>0</td>\n",
              "      <td>0</td>\n",
              "      <td>0</td>\n",
              "      <td>0</td>\n",
              "      <td>1</td>\n",
              "      <td>0</td>\n",
              "      <td>0</td>\n",
              "      <td>0</td>\n",
              "      <td>0</td>\n",
              "      <td>0</td>\n",
              "      <td>0</td>\n",
              "      <td>0</td>\n",
              "      <td>0</td>\n",
              "      <td>0</td>\n",
              "    </tr>\n",
              "    <tr>\n",
              "      <th>2</th>\n",
              "      <td>1</td>\n",
              "      <td>5.789473e-01</td>\n",
              "      <td>7.887854e-07</td>\n",
              "      <td>0</td>\n",
              "      <td>0</td>\n",
              "      <td>0</td>\n",
              "      <td>0</td>\n",
              "      <td>0</td>\n",
              "      <td>0</td>\n",
              "      <td>0</td>\n",
              "      <td>0</td>\n",
              "      <td>0</td>\n",
              "      <td>0</td>\n",
              "      <td>0</td>\n",
              "      <td>0</td>\n",
              "      <td>0</td>\n",
              "      <td>0</td>\n",
              "      <td>0</td>\n",
              "      <td>0</td>\n",
              "      <td>0</td>\n",
              "      <td>0</td>\n",
              "      <td>0</td>\n",
              "      <td>0</td>\n",
              "      <td>0</td>\n",
              "      <td>0</td>\n",
              "      <td>0</td>\n",
              "      <td>0</td>\n",
              "      <td>0</td>\n",
              "      <td>0</td>\n",
              "      <td>0</td>\n",
              "      <td>0</td>\n",
              "      <td>0</td>\n",
              "      <td>0</td>\n",
              "      <td>0</td>\n",
              "      <td>0</td>\n",
              "      <td>0</td>\n",
              "      <td>0</td>\n",
              "      <td>0</td>\n",
              "      <td>0</td>\n",
              "      <td>0</td>\n",
              "      <td>...</td>\n",
              "      <td>0</td>\n",
              "      <td>0</td>\n",
              "      <td>0</td>\n",
              "      <td>0</td>\n",
              "      <td>0</td>\n",
              "      <td>0</td>\n",
              "      <td>0</td>\n",
              "      <td>0</td>\n",
              "      <td>0</td>\n",
              "      <td>0</td>\n",
              "      <td>0</td>\n",
              "      <td>0</td>\n",
              "      <td>0</td>\n",
              "      <td>0</td>\n",
              "      <td>0</td>\n",
              "      <td>0</td>\n",
              "      <td>0</td>\n",
              "      <td>0</td>\n",
              "      <td>0</td>\n",
              "      <td>0</td>\n",
              "      <td>0</td>\n",
              "      <td>0</td>\n",
              "      <td>0</td>\n",
              "      <td>0</td>\n",
              "      <td>0</td>\n",
              "      <td>0</td>\n",
              "      <td>0</td>\n",
              "      <td>0</td>\n",
              "      <td>0</td>\n",
              "      <td>0</td>\n",
              "      <td>1</td>\n",
              "      <td>0</td>\n",
              "      <td>0</td>\n",
              "      <td>0</td>\n",
              "      <td>0</td>\n",
              "      <td>0</td>\n",
              "      <td>0</td>\n",
              "      <td>0</td>\n",
              "      <td>0</td>\n",
              "      <td>0</td>\n",
              "    </tr>\n",
              "    <tr>\n",
              "      <th>3</th>\n",
              "      <td>0</td>\n",
              "      <td>5.263152e-07</td>\n",
              "      <td>5.403313e-01</td>\n",
              "      <td>0</td>\n",
              "      <td>0</td>\n",
              "      <td>0</td>\n",
              "      <td>0</td>\n",
              "      <td>0</td>\n",
              "      <td>0</td>\n",
              "      <td>0</td>\n",
              "      <td>0</td>\n",
              "      <td>0</td>\n",
              "      <td>0</td>\n",
              "      <td>0</td>\n",
              "      <td>0</td>\n",
              "      <td>0</td>\n",
              "      <td>0</td>\n",
              "      <td>0</td>\n",
              "      <td>0</td>\n",
              "      <td>0</td>\n",
              "      <td>0</td>\n",
              "      <td>0</td>\n",
              "      <td>0</td>\n",
              "      <td>0</td>\n",
              "      <td>0</td>\n",
              "      <td>0</td>\n",
              "      <td>0</td>\n",
              "      <td>0</td>\n",
              "      <td>0</td>\n",
              "      <td>0</td>\n",
              "      <td>0</td>\n",
              "      <td>0</td>\n",
              "      <td>0</td>\n",
              "      <td>0</td>\n",
              "      <td>0</td>\n",
              "      <td>0</td>\n",
              "      <td>0</td>\n",
              "      <td>0</td>\n",
              "      <td>0</td>\n",
              "      <td>0</td>\n",
              "      <td>...</td>\n",
              "      <td>0</td>\n",
              "      <td>0</td>\n",
              "      <td>0</td>\n",
              "      <td>0</td>\n",
              "      <td>0</td>\n",
              "      <td>0</td>\n",
              "      <td>0</td>\n",
              "      <td>0</td>\n",
              "      <td>0</td>\n",
              "      <td>0</td>\n",
              "      <td>0</td>\n",
              "      <td>0</td>\n",
              "      <td>0</td>\n",
              "      <td>0</td>\n",
              "      <td>0</td>\n",
              "      <td>0</td>\n",
              "      <td>0</td>\n",
              "      <td>0</td>\n",
              "      <td>0</td>\n",
              "      <td>0</td>\n",
              "      <td>0</td>\n",
              "      <td>0</td>\n",
              "      <td>0</td>\n",
              "      <td>0</td>\n",
              "      <td>0</td>\n",
              "      <td>0</td>\n",
              "      <td>0</td>\n",
              "      <td>0</td>\n",
              "      <td>0</td>\n",
              "      <td>0</td>\n",
              "      <td>0</td>\n",
              "      <td>0</td>\n",
              "      <td>0</td>\n",
              "      <td>0</td>\n",
              "      <td>0</td>\n",
              "      <td>0</td>\n",
              "      <td>0</td>\n",
              "      <td>0</td>\n",
              "      <td>0</td>\n",
              "      <td>0</td>\n",
              "    </tr>\n",
              "    <tr>\n",
              "      <th>4</th>\n",
              "      <td>0</td>\n",
              "      <td>5.263152e-07</td>\n",
              "      <td>4.960187e-01</td>\n",
              "      <td>0</td>\n",
              "      <td>0</td>\n",
              "      <td>0</td>\n",
              "      <td>0</td>\n",
              "      <td>0</td>\n",
              "      <td>0</td>\n",
              "      <td>0</td>\n",
              "      <td>0</td>\n",
              "      <td>0</td>\n",
              "      <td>0</td>\n",
              "      <td>0</td>\n",
              "      <td>0</td>\n",
              "      <td>0</td>\n",
              "      <td>0</td>\n",
              "      <td>0</td>\n",
              "      <td>0</td>\n",
              "      <td>0</td>\n",
              "      <td>0</td>\n",
              "      <td>0</td>\n",
              "      <td>0</td>\n",
              "      <td>0</td>\n",
              "      <td>0</td>\n",
              "      <td>0</td>\n",
              "      <td>0</td>\n",
              "      <td>0</td>\n",
              "      <td>0</td>\n",
              "      <td>0</td>\n",
              "      <td>0</td>\n",
              "      <td>0</td>\n",
              "      <td>0</td>\n",
              "      <td>0</td>\n",
              "      <td>0</td>\n",
              "      <td>0</td>\n",
              "      <td>0</td>\n",
              "      <td>0</td>\n",
              "      <td>0</td>\n",
              "      <td>0</td>\n",
              "      <td>...</td>\n",
              "      <td>0</td>\n",
              "      <td>0</td>\n",
              "      <td>0</td>\n",
              "      <td>0</td>\n",
              "      <td>0</td>\n",
              "      <td>0</td>\n",
              "      <td>0</td>\n",
              "      <td>0</td>\n",
              "      <td>0</td>\n",
              "      <td>0</td>\n",
              "      <td>0</td>\n",
              "      <td>0</td>\n",
              "      <td>0</td>\n",
              "      <td>0</td>\n",
              "      <td>0</td>\n",
              "      <td>0</td>\n",
              "      <td>0</td>\n",
              "      <td>0</td>\n",
              "      <td>0</td>\n",
              "      <td>0</td>\n",
              "      <td>0</td>\n",
              "      <td>0</td>\n",
              "      <td>0</td>\n",
              "      <td>0</td>\n",
              "      <td>0</td>\n",
              "      <td>0</td>\n",
              "      <td>0</td>\n",
              "      <td>0</td>\n",
              "      <td>0</td>\n",
              "      <td>0</td>\n",
              "      <td>1</td>\n",
              "      <td>0</td>\n",
              "      <td>0</td>\n",
              "      <td>0</td>\n",
              "      <td>0</td>\n",
              "      <td>0</td>\n",
              "      <td>0</td>\n",
              "      <td>0</td>\n",
              "      <td>0</td>\n",
              "      <td>0</td>\n",
              "    </tr>\n",
              "  </tbody>\n",
              "</table>\n",
              "<p>5 rows × 184 columns</p>\n",
              "</div>"
            ],
            "text/plain": [
              "   fraude      media_id         tempo  ...  pais_Yemen  pais_Zambia  pais_Zimbabwe\n",
              "0       0  5.263152e-07  4.217734e-01  ...           0            0              0\n",
              "1       0  5.263152e-07  4.357532e-01  ...           0            0              0\n",
              "2       1  5.789473e-01  7.887854e-07  ...           0            0              0\n",
              "3       0  5.263152e-07  5.403313e-01  ...           0            0              0\n",
              "4       0  5.263152e-07  4.960187e-01  ...           0            0              0\n",
              "\n",
              "[5 rows x 184 columns]"
            ]
          },
          "metadata": {
            "tags": []
          },
          "execution_count": 15
        }
      ]
    },
    {
      "cell_type": "markdown",
      "metadata": {
        "id": "MHJNhsVu0cVo"
      },
      "source": [
        "- Classificando as features pelo nível de importância."
      ]
    },
    {
      "cell_type": "code",
      "metadata": {
        "id": "rvcPaMK-07LQ"
      },
      "source": [
        "X = fraude_df.drop('fraude',axis=1)\n",
        "Y = fraude_df['fraude']"
      ],
      "execution_count": null,
      "outputs": []
    },
    {
      "cell_type": "code",
      "metadata": {
        "id": "juX67c740VM0"
      },
      "source": [
        "from sklearn.ensemble import ExtraTreesClassifier"
      ],
      "execution_count": null,
      "outputs": []
    },
    {
      "cell_type": "code",
      "metadata": {
        "id": "5gWJ8irn0m1r"
      },
      "source": [
        "clf = ExtraTreesClassifier()"
      ],
      "execution_count": null,
      "outputs": []
    },
    {
      "cell_type": "code",
      "metadata": {
        "colab": {
          "base_uri": "https://localhost:8080/",
          "height": 111
        },
        "id": "_lDtxf6N1Fz1",
        "outputId": "7c8cbf4b-dcd9-43df-de1a-6cec7e86ebb3"
      },
      "source": [
        "_ = clf.fit(X,Y)\n",
        "\n",
        "features = pd.DataFrame()\n",
        "features['feature'] = X.columns\n",
        "features['importancia'] = clf.feature_importances_\n",
        "\n",
        "features[ features.importancia > np.mean(features.importancia)].sort_values(by='importancia',ascending=False)"
      ],
      "execution_count": null,
      "outputs": [
        {
          "output_type": "execute_result",
          "data": {
            "text/html": [
              "<div>\n",
              "<style scoped>\n",
              "    .dataframe tbody tr th:only-of-type {\n",
              "        vertical-align: middle;\n",
              "    }\n",
              "\n",
              "    .dataframe tbody tr th {\n",
              "        vertical-align: top;\n",
              "    }\n",
              "\n",
              "    .dataframe thead th {\n",
              "        text-align: right;\n",
              "    }\n",
              "</style>\n",
              "<table border=\"1\" class=\"dataframe\">\n",
              "  <thead>\n",
              "    <tr style=\"text-align: right;\">\n",
              "      <th></th>\n",
              "      <th>feature</th>\n",
              "      <th>importancia</th>\n",
              "    </tr>\n",
              "  </thead>\n",
              "  <tbody>\n",
              "    <tr>\n",
              "      <th>1</th>\n",
              "      <td>tempo</td>\n",
              "      <td>0.695555</td>\n",
              "    </tr>\n",
              "    <tr>\n",
              "      <th>0</th>\n",
              "      <td>media_id</td>\n",
              "      <td>0.298445</td>\n",
              "    </tr>\n",
              "  </tbody>\n",
              "</table>\n",
              "</div>"
            ],
            "text/plain": [
              "    feature  importancia\n",
              "1     tempo     0.695555\n",
              "0  media_id     0.298445"
            ]
          },
          "metadata": {
            "tags": []
          },
          "execution_count": 19
        }
      ]
    },
    {
      "cell_type": "markdown",
      "metadata": {
        "id": "Em0hZTJBhVKB"
      },
      "source": [
        "- Separando as amostras de treino e teste."
      ]
    },
    {
      "cell_type": "code",
      "metadata": {
        "id": "HXNhcocQhY_s"
      },
      "source": [
        "from sklearn.model_selection import train_test_split"
      ],
      "execution_count": null,
      "outputs": []
    },
    {
      "cell_type": "code",
      "metadata": {
        "id": "6uvucxPnhboN"
      },
      "source": [
        "X_treino, X_teste, Y_treino, Y_teste = train_test_split(X,Y, test_size=0.25, random_state=42)"
      ],
      "execution_count": null,
      "outputs": []
    },
    {
      "cell_type": "markdown",
      "metadata": {
        "id": "Gy_DspVwh5CK"
      },
      "source": [
        "- Ajustando os dados de saída."
      ]
    },
    {
      "cell_type": "code",
      "metadata": {
        "id": "HYJd0tEAhwnZ"
      },
      "source": [
        "Y_treino = Y_treino.apply(lambda x: 1 if x == 0 else -1)\n",
        "Y_teste = Y_teste.apply(lambda x: 1 if x == 0 else -1)"
      ],
      "execution_count": null,
      "outputs": []
    },
    {
      "cell_type": "code",
      "metadata": {
        "id": "3bPxq08WiRcW"
      },
      "source": [
        "from sklearn.ensemble import IsolationForest\n",
        "from sklearn.model_selection import GridSearchCV"
      ],
      "execution_count": null,
      "outputs": []
    },
    {
      "cell_type": "code",
      "metadata": {
        "colab": {
          "base_uri": "https://localhost:8080/"
        },
        "id": "ZeuY57T6iUS2",
        "outputId": "dbef1f85-4e85-4b18-f3b9-b8b423b7fc63"
      },
      "source": [
        "IF = IsolationForest(max_samples='auto', contamination=0.095, random_state=1)\n",
        "param_grid = {'n_estimators':np.arange(100,550,50)}\n",
        "\n",
        "clf = GridSearchCV(IF,\n",
        "                   param_grid,\n",
        "                   cv=5,\n",
        "                   n_jobs=10,\n",
        "                   scoring='f1',\n",
        "                   verbose=10\n",
        "                   )\n",
        "\n",
        "_ = clf.fit(X_treino,Y_treino)"
      ],
      "execution_count": null,
      "outputs": [
        {
          "output_type": "stream",
          "text": [
            "Fitting 5 folds for each of 9 candidates, totalling 45 fits\n"
          ],
          "name": "stdout"
        },
        {
          "output_type": "stream",
          "text": [
            "[Parallel(n_jobs=10)]: Using backend LokyBackend with 10 concurrent workers.\n",
            "[Parallel(n_jobs=10)]: Done   5 tasks      | elapsed:  1.6min\n",
            "[Parallel(n_jobs=10)]: Done  12 tasks      | elapsed:  5.9min\n",
            "[Parallel(n_jobs=10)]: Done  21 tasks      | elapsed: 12.9min\n",
            "[Parallel(n_jobs=10)]: Done  31 out of  45 | elapsed: 22.5min remaining: 10.2min\n",
            "[Parallel(n_jobs=10)]: Done  36 out of  45 | elapsed: 30.2min remaining:  7.5min\n",
            "[Parallel(n_jobs=10)]: Done  41 out of  45 | elapsed: 32.6min remaining:  3.2min\n",
            "[Parallel(n_jobs=10)]: Done  45 out of  45 | elapsed: 33.0min finished\n"
          ],
          "name": "stderr"
        }
      ]
    },
    {
      "cell_type": "code",
      "metadata": {
        "id": "zonUwCWwkzhT"
      },
      "source": [
        "IF_best = clf.best_estimator_\n",
        "y_pred = IF_best.predict(X_teste)"
      ],
      "execution_count": null,
      "outputs": []
    },
    {
      "cell_type": "code",
      "metadata": {
        "id": "yFMzvPjRlaZ3"
      },
      "source": [
        "from sklearn.metrics import classification_report, roc_auc_score, roc_curve"
      ],
      "execution_count": null,
      "outputs": []
    },
    {
      "cell_type": "code",
      "metadata": {
        "colab": {
          "base_uri": "https://localhost:8080/"
        },
        "id": "M5K7TUh8PTuj",
        "outputId": "a122ab7e-6016-41d5-bb12-4db996ab3d84"
      },
      "source": [
        "roc_auc = roc_auc_score(Y_teste, y_pred) \n",
        "print('Área sob a curva ROC: {:0.3f}'.format(roc_auc))"
      ],
      "execution_count": null,
      "outputs": [
        {
          "output_type": "stream",
          "text": [
            "Área sob a curva ROC: 0.730\n"
          ],
          "name": "stdout"
        }
      ]
    },
    {
      "cell_type": "code",
      "metadata": {
        "colab": {
          "base_uri": "https://localhost:8080/"
        },
        "id": "hswYKxpRPWTk",
        "outputId": "e19d5db6-ab83-48b5-f83e-c0e31003ae3f"
      },
      "source": [
        "print(classification_report(Y_teste,\n",
        "                            y_pred,\n",
        "                            target_names=['anomalo','normal']))"
      ],
      "execution_count": null,
      "outputs": [
        {
          "output_type": "stream",
          "text": [
            "              precision    recall  f1-score   support\n",
            "\n",
            "     anomalo       0.51      0.51      0.51      3563\n",
            "      normal       0.95      0.95      0.95     34215\n",
            "\n",
            "    accuracy                           0.91     37778\n",
            "   macro avg       0.73      0.73      0.73     37778\n",
            "weighted avg       0.91      0.91      0.91     37778\n",
            "\n"
          ],
          "name": "stdout"
        }
      ]
    },
    {
      "cell_type": "code",
      "metadata": {
        "colab": {
          "base_uri": "https://localhost:8080/",
          "height": 295
        },
        "id": "0_XXb17VlsIo",
        "outputId": "cf6d9e8a-10e8-4689-d004-56a7fa7db90c"
      },
      "source": [
        "IF_proba = IF_best.decision_function(X_teste)\n",
        "fpr, tpr, thresholds = roc_curve(Y_teste, IF_proba)\n",
        "\n",
        "plt.plot(fpr, tpr, lw=1)\n",
        "\n",
        "plt.plot([0,1],[0,1], '--', label='Previsão aleatória')\n",
        "\n",
        "plt.title('ROC curve')\n",
        "plt.xlabel('Falsos Positivos')\n",
        "plt.ylabel('Verdadeiros Positivos ')\n",
        "plt.grid(True)\n",
        "plt.show()"
      ],
      "execution_count": null,
      "outputs": [
        {
          "output_type": "display_data",
          "data": {
            "image/png": "[encoded data removed]",
            "text/plain": [
              "<Figure size 432x288 with 1 Axes>"
            ]
          },
          "metadata": {
            "tags": [],
            "needs_background": "light"
          }
        }
      ]
    },
    {
      "cell_type": "code",
      "metadata": {
        "id": "pYGnNzmJL-UX"
      },
      "source": [
        ""
      ],
      "execution_count": null,
      "outputs": []
    },
    {
      "cell_type": "code",
      "metadata": {
        "id": "S7q6-_zvoGqZ"
      },
      "source": [
        "from sklearn.metrics import confusion_matrix"
      ],
      "execution_count": null,
      "outputs": []
    },
    {
      "cell_type": "code",
      "metadata": {
        "colab": {
          "base_uri": "https://localhost:8080/",
          "height": 282
        },
        "id": "w7UnYrQ5mCrj",
        "outputId": "ed4e538a-6a4e-41ca-aab3-00e42263e576"
      },
      "source": [
        "cm=confusion_matrix(Y_teste, y_pred)\n",
        "sns.heatmap(cm, annot=True, fmt='g',cmap=\"YlGnBu\")\n",
        "\n",
        "# plt.xlabel('Predição( 1 ou 0)')\n",
        "# plt.ylabel('Real ( 1 ou 0)')"
      ],
      "execution_count": null,
      "outputs": [
        {
          "output_type": "execute_result",
          "data": {
            "text/plain": [
              "<matplotlib.axes._subplots.AxesSubplot at 0x7fa303a19690>"
            ]
          },
          "metadata": {
            "tags": []
          },
          "execution_count": 47
        },
        {
          "output_type": "display_data",
          "data": {
            "image/png": "[encoded data removed]",
            "text/plain": [
              "<Figure size 432x288 with 2 Axes>"
            ]
          },
          "metadata": {
            "tags": [],
            "needs_background": "light"
          }
        }
      ]
    },
    {
      "cell_type": "code",
      "metadata": {
        "id": "yoTqj5iPXgSk"
      },
      "source": [
        ""
      ],
      "execution_count": null,
      "outputs": []
    }
  ]
}